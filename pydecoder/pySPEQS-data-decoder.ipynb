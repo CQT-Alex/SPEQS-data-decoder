{
 "cells": [
  {
   "cell_type": "code",
   "execution_count": 86,
   "metadata": {
    "collapsed": true
   },
   "outputs": [],
   "source": [
    "#all the import statements are here. \n",
    "import numpy as np\n",
    "import pandas as pd"
   ]
  },
  {
   "cell_type": "code",
   "execution_count": 87,
   "metadata": {
    "collapsed": false
   },
   "outputs": [],
   "source": [
    "raw_data  = np.fromfile('out.bin', dtype='uint8')"
   ]
  },
  {
   "cell_type": "code",
   "execution_count": 88,
   "metadata": {
    "collapsed": false
   },
   "outputs": [],
   "source": [
    "bin_data = raw_data.reshape(7,35)"
   ]
  },
  {
   "cell_type": "code",
   "execution_count": 89,
   "metadata": {
    "collapsed": true
   },
   "outputs": [
    {
     "data": {
      "text/plain": [
       "array([['0x45', '0x23', '0xe1', '0xcd', '0xab', '0x90', '0x78', '0x56',\n",
       "        '0x34', '0x12', '0xcd', '0xab', '0x51', '0x20', '0xcd', '0x0',\n",
       "        '0xab', '0xcd', '0xef', '0x12', '0x34', '0x67', '0x5', '0xbe',\n",
       "        '0x37', '0x34', '0x12', '0xcd', '0xab', '0x12', '0x1e', '0x79',\n",
       "        '0x91', '0x0', '0x0'],\n",
       "       ['0x45', '0x23', '0xe1', '0xcd', '0xab', '0x90', '0x78', '0x56',\n",
       "        '0x34', '0x12', '0xcd', '0xab', '0x51', '0x20', '0xcd', '0x0',\n",
       "        '0xab', '0xcd', '0xef', '0x12', '0x34', '0x67', '0x5', '0xbe',\n",
       "        '0x37', '0x34', '0x12', '0xcd', '0xab', '0x12', '0x1e', '0x79',\n",
       "        '0x91', '0x0', '0x0'],\n",
       "       ['0x45', '0x23', '0xe1', '0xcd', '0xab', '0x90', '0x78', '0x56',\n",
       "        '0x34', '0x12', '0xcd', '0xab', '0x51', '0x20', '0xcd', '0x0',\n",
       "        '0xab', '0xcd', '0xef', '0x12', '0x34', '0x67', '0x5', '0xbe',\n",
       "        '0x37', '0x34', '0x12', '0xcd', '0xab', '0x12', '0x1e', '0x79',\n",
       "        '0x91', '0x0', '0x0'],\n",
       "       ['0x45', '0x23', '0xe1', '0xcd', '0xab', '0x90', '0x78', '0x56',\n",
       "        '0x34', '0x12', '0xcd', '0xab', '0x51', '0x20', '0xcd', '0x0',\n",
       "        '0xab', '0xcd', '0xef', '0x12', '0x34', '0x67', '0x5', '0xbe',\n",
       "        '0x37', '0x34', '0x12', '0xcd', '0xab', '0x12', '0x1e', '0x79',\n",
       "        '0x91', '0x0', '0x0'],\n",
       "       ['0x45', '0x23', '0xe1', '0xcd', '0xab', '0x90', '0x78', '0x56',\n",
       "        '0x34', '0x12', '0xcd', '0xab', '0x51', '0x20', '0xcd', '0x0',\n",
       "        '0xab', '0xcd', '0xef', '0x12', '0x34', '0x67', '0x5', '0xbe',\n",
       "        '0x37', '0x34', '0x12', '0xcd', '0xab', '0x12', '0x1e', '0x79',\n",
       "        '0x91', '0x0', '0x0'],\n",
       "       ['0x45', '0x23', '0xe1', '0xcd', '0xab', '0x90', '0x78', '0x56',\n",
       "        '0x34', '0x12', '0xcd', '0xab', '0x51', '0x20', '0xcd', '0x0',\n",
       "        '0xab', '0xcd', '0xef', '0x12', '0x34', '0x67', '0x5', '0xbe',\n",
       "        '0x37', '0x34', '0x12', '0xcd', '0xab', '0x12', '0x1e', '0x79',\n",
       "        '0x91', '0x0', '0x0'],\n",
       "       ['0x45', '0x23', '0xe1', '0xcd', '0xab', '0x90', '0x78', '0x56',\n",
       "        '0x34', '0x12', '0xcd', '0xab', '0x51', '0x20', '0xcd', '0x0',\n",
       "        '0xab', '0xcd', '0xef', '0x12', '0x34', '0x67', '0x5', '0xbe',\n",
       "        '0x37', '0x34', '0x12', '0xcd', '0xab', '0x12', '0x1e', '0x79',\n",
       "        '0x91', '0x0', '0x0']],\n",
       "      dtype='<U4')"
      ]
     },
     "execution_count": 89,
     "metadata": {},
     "output_type": "execute_result"
    }
   ],
   "source": [
    "#print in hex\n",
    "vhex = np.vectorize(hex)\n",
    "vhex(bin_data)"
   ]
  },
  {
   "cell_type": "code",
   "execution_count": 109,
   "metadata": {
    "collapsed": false
   },
   "outputs": [],
   "source": [
    "#helper function\n",
    "def create_word(barr):\n",
    "    h = 0\n",
    "    for b in reversed(barr):\n",
    "        h = h << 8\n",
    "        h = h | b\n",
    "    #print (hex(h) )\n",
    "    return h\n",
    "    \n",
    "def get_val(h, bitmask, r_shift ):\n",
    "    val = (h&bitmask) >>r_shift\n",
    "    return val"
   ]
  },
  {
   "cell_type": "code",
   "execution_count": 43,
   "metadata": {
    "collapsed": false
   },
   "outputs": [
    {
     "name": "stdout",
     "output_type": "stream",
     "text": [
      "0xe12345\n"
     ]
    }
   ],
   "source": [
    "w = create_word(bin_data[1,0:3])"
   ]
  },
  {
   "cell_type": "code",
   "execution_count": 44,
   "metadata": {
    "collapsed": false
   },
   "outputs": [
    {
     "data": {
      "text/plain": [
       "array('0x12345',\n",
       "      dtype='<U7')"
      ]
     },
     "execution_count": 44,
     "metadata": {},
     "output_type": "execute_result"
    }
   ],
   "source": [
    "vhex(get_val(w,0xFFFFF,0) )"
   ]
  },
  {
   "cell_type": "code",
   "execution_count": 91,
   "metadata": {
    "collapsed": true
   },
   "outputs": [],
   "source": [
    "def extract_column(data, begin_byte, end_byte,pattern, right_shift):\n",
    "    warr = map(create_word,data[:,begin_byte:end_byte])\n",
    "    r = [get_val(w,pattern,right_shift) for  w in warr]\n",
    "\n",
    "    return r\n"
   ]
  },
  {
   "cell_type": "code",
   "execution_count": 56,
   "metadata": {
    "collapsed": true
   },
   "outputs": [
    {
     "name": "stdout",
     "output_type": "stream",
     "text": [
      "0xe12345\n",
      "0xe12345\n",
      "0xe12345\n",
      "0xe12345\n",
      "0xe12345\n",
      "0xe12345\n",
      "0xe12345\n"
     ]
    },
    {
     "data": {
      "text/plain": [
       "array(['0x12345', '0x12345', '0x12345', '0x12345', '0x12345', '0x12345',\n",
       "       '0x12345'],\n",
       "      dtype='<U7')"
      ]
     },
     "execution_count": 56,
     "metadata": {},
     "output_type": "execute_result"
    }
   ],
   "source": [
    "def APD1Top(data):\n",
    "    return extract_column(data,0,3,0xFFFFF,0)\n",
    "vhex(APD1Top(bin_data))"
   ]
  },
  {
   "cell_type": "code",
   "execution_count": 63,
   "metadata": {
    "collapsed": true
   },
   "outputs": [
    {
     "name": "stdout",
     "output_type": "stream",
     "text": [
      "0xabcde1\n",
      "0xabcde1\n",
      "0xabcde1\n",
      "0xabcde1\n",
      "0xabcde1\n",
      "0xabcde1\n",
      "0xabcde1\n"
     ]
    },
    {
     "data": {
      "text/plain": [
       "array(['0xabcde', '0xabcde', '0xabcde', '0xabcde', '0xabcde', '0xabcde',\n",
       "       '0xabcde'],\n",
       "      dtype='<U7')"
      ]
     },
     "execution_count": 63,
     "metadata": {},
     "output_type": "execute_result"
    }
   ],
   "source": [
    "def APD2Top(data):\n",
    "    return extract_column(data,2,5,0xFFFFF0,4)\n",
    "vhex(APD2Top(bin_data))"
   ]
  },
  {
   "cell_type": "code",
   "execution_count": 67,
   "metadata": {
    "collapsed": true
   },
   "outputs": [
    {
     "name": "stdout",
     "output_type": "stream",
     "text": [
      "0x567890\n",
      "0x567890\n",
      "0x567890\n",
      "0x567890\n",
      "0x567890\n",
      "0x567890\n",
      "0x567890\n"
     ]
    },
    {
     "data": {
      "text/plain": [
       "array(['0x67890', '0x67890', '0x67890', '0x67890', '0x67890', '0x67890',\n",
       "       '0x67890'],\n",
       "      dtype='<U7')"
      ]
     },
     "execution_count": 67,
     "metadata": {},
     "output_type": "execute_result"
    }
   ],
   "source": [
    "def APD1Bot(data):\n",
    "    return extract_column(data,5,8,0xFFFFF,0)\n",
    "vhex(APD1Bot(bin_data))"
   ]
  },
  {
   "cell_type": "code",
   "execution_count": 68,
   "metadata": {
    "collapsed": true
   },
   "outputs": [
    {
     "name": "stdout",
     "output_type": "stream",
     "text": [
      "0x123456\n",
      "0x123456\n",
      "0x123456\n",
      "0x123456\n",
      "0x123456\n",
      "0x123456\n",
      "0x123456\n"
     ]
    },
    {
     "data": {
      "text/plain": [
       "array(['0x12345', '0x12345', '0x12345', '0x12345', '0x12345', '0x12345',\n",
       "       '0x12345'],\n",
       "      dtype='<U7')"
      ]
     },
     "execution_count": 68,
     "metadata": {},
     "output_type": "execute_result"
    }
   ],
   "source": [
    "def APD2Bot(data):\n",
    "    return extract_column(data,7,10,0xFFFFF0,4)\n",
    "vhex(APD2Bot(bin_data))"
   ]
  },
  {
   "cell_type": "code",
   "execution_count": 71,
   "metadata": {
    "collapsed": true
   },
   "outputs": [
    {
     "name": "stdout",
     "output_type": "stream",
     "text": [
      "0x51abcd\n",
      "0x51abcd\n",
      "0x51abcd\n",
      "0x51abcd\n",
      "0x51abcd\n",
      "0x51abcd\n",
      "0x51abcd\n"
     ]
    },
    {
     "data": {
      "text/plain": [
       "array(['0xabcd', '0xabcd', '0xabcd', '0xabcd', '0xabcd', '0xabcd', '0xabcd'],\n",
       "      dtype='<U6')"
      ]
     },
     "execution_count": 71,
     "metadata": {},
     "output_type": "execute_result"
    }
   ],
   "source": [
    "def coinc(data):\n",
    "    return extract_column(data,10,13,0xFFFF,0)\n",
    "vhex(coinc(bin_data))"
   ]
  },
  {
   "cell_type": "code",
   "execution_count": 77,
   "metadata": {
    "collapsed": false
   },
   "outputs": [
    {
     "name": "stdout",
     "output_type": "stream",
     "text": [
      "0xcd2051\n",
      "0xcd2051\n",
      "0xcd2051\n",
      "0xcd2051\n",
      "0xcd2051\n",
      "0xcd2051\n",
      "0xcd2051\n"
     ]
    },
    {
     "data": {
      "text/plain": [
       "array(['0x51', '0x51', '0x51', '0x51', '0x51', '0x51', '0x51'],\n",
       "      dtype='<U4')"
      ]
     },
     "execution_count": 77,
     "metadata": {},
     "output_type": "execute_result"
    }
   ],
   "source": [
    "def APD_DAC1(data):\n",
    "    return extract_column(data,12,15,0xFFF,0)\n",
    "vhex(APD_DAC1(bin_data))"
   ]
  },
  {
   "cell_type": "code",
   "execution_count": 78,
   "metadata": {
    "collapsed": true
   },
   "outputs": [
    {
     "name": "stdout",
     "output_type": "stream",
     "text": [
      "0xcd2051\n",
      "0xcd2051\n",
      "0xcd2051\n",
      "0xcd2051\n",
      "0xcd2051\n",
      "0xcd2051\n",
      "0xcd2051\n"
     ]
    },
    {
     "data": {
      "text/plain": [
       "array(['0xcd2', '0xcd2', '0xcd2', '0xcd2', '0xcd2', '0xcd2', '0xcd2'],\n",
       "      dtype='<U5')"
      ]
     },
     "execution_count": 78,
     "metadata": {},
     "output_type": "execute_result"
    }
   ],
   "source": [
    "def APD_DAC2(data):\n",
    "    return extract_column(data,12,15,0xFFF000,12)\n",
    "vhex(APD_DAC2(bin_data))"
   ]
  },
  {
   "cell_type": "code",
   "execution_count": 79,
   "metadata": {
    "collapsed": false
   },
   "outputs": [
    {
     "data": {
      "text/plain": [
       "array([['0xab', '0xcd', '0xef', '0x12', '0x34'],\n",
       "       ['0xab', '0xcd', '0xef', '0x12', '0x34'],\n",
       "       ['0xab', '0xcd', '0xef', '0x12', '0x34'],\n",
       "       ['0xab', '0xcd', '0xef', '0x12', '0x34'],\n",
       "       ['0xab', '0xcd', '0xef', '0x12', '0x34'],\n",
       "       ['0xab', '0xcd', '0xef', '0x12', '0x34'],\n",
       "       ['0xab', '0xcd', '0xef', '0x12', '0x34']],\n",
       "      dtype='<U4')"
      ]
     },
     "execution_count": 79,
     "metadata": {},
     "output_type": "execute_result"
    }
   ],
   "source": [
    "def thermistors_x_5(data):\n",
    "    return data[:,16:21]\n",
    "\n",
    "vhex(thermistors_x_5(bin_data) )\n"
   ]
  },
  {
   "cell_type": "code",
   "execution_count": 80,
   "metadata": {
    "collapsed": false
   },
   "outputs": [
    {
     "name": "stdout",
     "output_type": "stream",
     "text": [
      "0x567\n",
      "0x567\n",
      "0x567\n",
      "0x567\n",
      "0x567\n",
      "0x567\n",
      "0x567\n"
     ]
    },
    {
     "data": {
      "text/plain": [
       "array(['0x567', '0x567', '0x567', '0x567', '0x567', '0x567', '0x567'],\n",
       "      dtype='<U5')"
      ]
     },
     "execution_count": 80,
     "metadata": {},
     "output_type": "execute_result"
    }
   ],
   "source": [
    "def Laser_DAC(data):\n",
    "    return extract_column(data,21,23,0xFFF,0)\n",
    "vhex(Laser_DAC(bin_data))"
   ]
  },
  {
   "cell_type": "code",
   "execution_count": 85,
   "metadata": {
    "collapsed": false
   },
   "outputs": [
    {
     "name": "stdout",
     "output_type": "stream",
     "text": [
      "0x37be\n",
      "0x37be\n",
      "0x37be\n",
      "0x37be\n",
      "0x37be\n",
      "0x37be\n",
      "0x37be\n"
     ]
    },
    {
     "data": {
      "text/plain": [
       "array(['0xdef', '0xdef', '0xdef', '0xdef', '0xdef', '0xdef', '0xdef'],\n",
       "      dtype='<U5')"
      ]
     },
     "execution_count": 85,
     "metadata": {},
     "output_type": "execute_result"
    }
   ],
   "source": [
    "def LCPR_cap_pf(data):\n",
    "    return extract_column(data,23,25,(0xFFF<<2),2)\n",
    "vhex(LCPR_cap_pf(bin_data))"
   ]
  },
  {
   "cell_type": "code",
   "execution_count": 129,
   "metadata": {
    "collapsed": false
   },
   "outputs": [
    {
     "data": {
      "text/plain": [
       "array(['0x2', '0x2', '0x2', '0x2', '0x2', '0x2', '0x2'],\n",
       "      dtype='<U3')"
      ]
     },
     "execution_count": 129,
     "metadata": {},
     "output_type": "execute_result"
    }
   ],
   "source": [
    "def LCPR_ref_i(data):\n",
    "    return extract_column(data,23,25,0x3,0)\n",
    "vhex(LCPR_ref_i(bin_data))"
   ]
  },
  {
   "cell_type": "code",
   "execution_count": 93,
   "metadata": {
    "collapsed": true
   },
   "outputs": [
    {
     "name": "stdout",
     "output_type": "stream",
     "text": [
      "0x1234\n",
      "0x1234\n",
      "0x1234\n",
      "0x1234\n",
      "0x1234\n",
      "0x1234\n",
      "0x1234\n"
     ]
    },
    {
     "data": {
      "text/plain": [
       "array(['0x1234', '0x1234', '0x1234', '0x1234', '0x1234', '0x1234', '0x1234'],\n",
       "      dtype='<U6')"
      ]
     },
     "execution_count": 93,
     "metadata": {},
     "output_type": "execute_result"
    }
   ],
   "source": [
    "def LCPR_1(data):\n",
    "    return extract_column(data,25,27,0xFFFF,0)\n",
    "vhex(LCPR_1(bin_data))"
   ]
  },
  {
   "cell_type": "code",
   "execution_count": 94,
   "metadata": {
    "collapsed": true
   },
   "outputs": [
    {
     "name": "stdout",
     "output_type": "stream",
     "text": [
      "0xabcd\n",
      "0xabcd\n",
      "0xabcd\n",
      "0xabcd\n",
      "0xabcd\n",
      "0xabcd\n",
      "0xabcd\n"
     ]
    },
    {
     "data": {
      "text/plain": [
       "array(['0xabcd', '0xabcd', '0xabcd', '0xabcd', '0xabcd', '0xabcd', '0xabcd'],\n",
       "      dtype='<U6')"
      ]
     },
     "execution_count": 94,
     "metadata": {},
     "output_type": "execute_result"
    }
   ],
   "source": [
    "def LCPR_2(data):\n",
    "    return extract_column(data,27,29,0xFFFF,0)\n",
    "vhex(LCPR_2(bin_data))"
   ]
  },
  {
   "cell_type": "code",
   "execution_count": 95,
   "metadata": {
    "collapsed": true
   },
   "outputs": [
    {
     "name": "stdout",
     "output_type": "stream",
     "text": [
      "0x91791e12\n",
      "0x91791e12\n",
      "0x91791e12\n",
      "0x91791e12\n",
      "0x91791e12\n",
      "0x91791e12\n",
      "0x91791e12\n"
     ]
    },
    {
     "data": {
      "text/plain": [
       "array(['0x245', '0x245', '0x245', '0x245', '0x245', '0x245', '0x245'],\n",
       "      dtype='<U5')"
      ]
     },
     "execution_count": 95,
     "metadata": {},
     "output_type": "execute_result"
    }
   ],
   "source": [
    "def LEPD_total(data):\n",
    "    return extract_column(data,29,33,(0x3FF<<22),22)\n",
    "vhex(LEPD_total(bin_data))\n"
   ]
  },
  {
   "cell_type": "code",
   "execution_count": 96,
   "metadata": {
    "collapsed": true
   },
   "outputs": [
    {
     "name": "stdout",
     "output_type": "stream",
     "text": [
      "0x91791e12\n",
      "0x91791e12\n",
      "0x91791e12\n",
      "0x91791e12\n",
      "0x91791e12\n",
      "0x91791e12\n",
      "0x91791e12\n"
     ]
    },
    {
     "data": {
      "text/plain": [
       "array(['0x723', '0x723', '0x723', '0x723', '0x723', '0x723', '0x723'],\n",
       "      dtype='<U5')"
      ]
     },
     "execution_count": 96,
     "metadata": {},
     "output_type": "execute_result"
    }
   ],
   "source": [
    "def LEPD_dX(data):\n",
    "    return extract_column(data,29,33,(0x7FF<<11),11)\n",
    "vhex(LEPD_dX(bin_data))"
   ]
  },
  {
   "cell_type": "code",
   "execution_count": 97,
   "metadata": {
    "collapsed": false
   },
   "outputs": [
    {
     "name": "stdout",
     "output_type": "stream",
     "text": [
      "0x91791e12\n",
      "0x91791e12\n",
      "0x91791e12\n",
      "0x91791e12\n",
      "0x91791e12\n",
      "0x91791e12\n",
      "0x91791e12\n"
     ]
    },
    {
     "data": {
      "text/plain": [
       "array(['0x612', '0x612', '0x612', '0x612', '0x612', '0x612', '0x612'],\n",
       "      dtype='<U5')"
      ]
     },
     "execution_count": 97,
     "metadata": {},
     "output_type": "execute_result"
    }
   ],
   "source": [
    "def LEPD_dY(data):\n",
    "    return extract_column(data,29,33,(0x7FF),0)\n",
    "vhex(LEPD_dY(bin_data))"
   ]
  },
  {
   "cell_type": "code",
   "execution_count": 98,
   "metadata": {
    "collapsed": true
   },
   "outputs": [
    {
     "name": "stdout",
     "output_type": "stream",
     "text": [
      "0x0\n",
      "0x0\n",
      "0x0\n",
      "0x0\n",
      "0x0\n",
      "0x0\n",
      "0x0\n"
     ]
    },
    {
     "data": {
      "text/plain": [
       "array(['0x0', '0x0', '0x0', '0x0', '0x0', '0x0', '0x0'],\n",
       "      dtype='<U3')"
      ]
     },
     "execution_count": 98,
     "metadata": {},
     "output_type": "execute_result"
    }
   ],
   "source": [
    "def get_index(data):\n",
    "    return extract_column(data,33,35,(0xFFFF),0)\n",
    "vhex(get_index(bin_data))"
   ]
  },
  {
   "cell_type": "code",
   "execution_count": 151,
   "metadata": {
    "collapsed": true
   },
   "outputs": [],
   "source": [
    "#COLUMN_NAMES = [\"APDTop1\",\"APDTop2\",\"APDBot1\",\"APDBot2\",\"Coincidence\",]\n",
    "COLUMN_NAMES = [\"APDTop1\",\"APDTop2\",\"APDBot1\",\"APDBot2\",\n",
    "                \"Coincidence\",\"APD_DAC1\",\"APD_DAC2\",\"T1\",\n",
    "                \"T2\",\"T3\",\"T4\",\"T5\",\"Laser_DAC\",\"LCPR_cap_pf\",\n",
    "                \"LCPR_ref_i\",\"LCPR_1\",\"LCPR_2\",\"LEPD_total\",\n",
    "                \"LEPD_dX\",\"LEPD_dY\",\"index\"]\n",
    "df = pd.DataFrame(columns=COLUMN_NAMES)\n",
    "data = bin_data"
   ]
  },
  {
   "cell_type": "code",
   "execution_count": 152,
   "metadata": {
    "collapsed": false
   },
   "outputs": [],
   "source": [
    "df[\"APDTop1\"] = APD1Top(data)\n",
    "df[\"APDTop2\"] = APD2Top(data)\n",
    "df[\"APDBot1\"] = APD1Bot(data)\n",
    "df[\"APDBot2\"] = APD2Bot(data)\n",
    "df[\"Coincidence\"] = coinc(data)\n",
    "df[\"APD_DAC1\"] = APD_DAC1(data)\n",
    "df[\"APD_DAC2\"] = APD_DAC2(data)\n",
    "T = thermistors_x_5(data)\n",
    "df[\"T1\"] = T[:,0]\n",
    "df[\"T2\"] = T[:,1]\n",
    "df[\"T3\"] = T[:,2]\n",
    "df[\"T4\"] = T[:,3]\n",
    "df[\"T5\"] = T[:,4]\n",
    "df[\"Laser_DAC\"] = Laser_DAC(data)\n",
    "df[\"LCPR_cap_pf\"] = LCPR_cap_pf(data)\n",
    "df[\"LCPR_ref_i\"] = LCPR_ref_i(data)\n",
    "df[\"LCPR_1\"] = LCPR_1(data)\n",
    "df[\"LCPR_2\"] = LCPR_2(data)\n",
    "df[\"LEPD_total\"] = LEPD_total(data)\n",
    "df[\"LEPD_dX\"] = LEPD_dX(data)\n",
    "df[\"LEPD_dY\"] = LEPD_dY(data)\n",
    "df[\"index\"] = get_index(data)"
   ]
  },
  {
   "cell_type": "code",
   "execution_count": 162,
   "metadata": {
    "collapsed": false
   },
   "outputs": [
    {
     "data": {
      "text/html": [
       "<div>\n",
       "<style scoped>\n",
       "    .dataframe tbody tr th:only-of-type {\n",
       "        vertical-align: middle;\n",
       "    }\n",
       "\n",
       "    .dataframe tbody tr th {\n",
       "        vertical-align: top;\n",
       "    }\n",
       "\n",
       "    .dataframe thead th {\n",
       "        text-align: right;\n",
       "    }\n",
       "</style>\n",
       "<table border=\"1\" class=\"dataframe\">\n",
       "  <thead>\n",
       "    <tr style=\"text-align: right;\">\n",
       "      <th></th>\n",
       "      <th>APDTop1</th>\n",
       "      <th>APDTop2</th>\n",
       "      <th>APDBot1</th>\n",
       "      <th>APDBot2</th>\n",
       "      <th>Coincidence</th>\n",
       "      <th>APD_DAC1</th>\n",
       "      <th>APD_DAC2</th>\n",
       "      <th>T1</th>\n",
       "      <th>T2</th>\n",
       "      <th>T3</th>\n",
       "      <th>...</th>\n",
       "      <th>T5</th>\n",
       "      <th>Laser_DAC</th>\n",
       "      <th>LCPR_cap_pf</th>\n",
       "      <th>LCPR_ref_i</th>\n",
       "      <th>LCPR_1</th>\n",
       "      <th>LCPR_2</th>\n",
       "      <th>LEPD_total</th>\n",
       "      <th>LEPD_dX</th>\n",
       "      <th>LEPD_dY</th>\n",
       "      <th>index</th>\n",
       "    </tr>\n",
       "  </thead>\n",
       "  <tbody>\n",
       "    <tr>\n",
       "      <th>0</th>\n",
       "      <td>74565</td>\n",
       "      <td>703710</td>\n",
       "      <td>424080</td>\n",
       "      <td>74565</td>\n",
       "      <td>43981</td>\n",
       "      <td>81</td>\n",
       "      <td>3282</td>\n",
       "      <td>171</td>\n",
       "      <td>205</td>\n",
       "      <td>239</td>\n",
       "      <td>...</td>\n",
       "      <td>52</td>\n",
       "      <td>1383</td>\n",
       "      <td>3567</td>\n",
       "      <td>2</td>\n",
       "      <td>4660</td>\n",
       "      <td>43981</td>\n",
       "      <td>581</td>\n",
       "      <td>1827</td>\n",
       "      <td>1554</td>\n",
       "      <td>0</td>\n",
       "    </tr>\n",
       "    <tr>\n",
       "      <th>1</th>\n",
       "      <td>74565</td>\n",
       "      <td>703710</td>\n",
       "      <td>424080</td>\n",
       "      <td>74565</td>\n",
       "      <td>43981</td>\n",
       "      <td>81</td>\n",
       "      <td>3282</td>\n",
       "      <td>171</td>\n",
       "      <td>205</td>\n",
       "      <td>239</td>\n",
       "      <td>...</td>\n",
       "      <td>52</td>\n",
       "      <td>1383</td>\n",
       "      <td>3567</td>\n",
       "      <td>2</td>\n",
       "      <td>4660</td>\n",
       "      <td>43981</td>\n",
       "      <td>581</td>\n",
       "      <td>1827</td>\n",
       "      <td>1554</td>\n",
       "      <td>0</td>\n",
       "    </tr>\n",
       "    <tr>\n",
       "      <th>2</th>\n",
       "      <td>74565</td>\n",
       "      <td>703710</td>\n",
       "      <td>424080</td>\n",
       "      <td>74565</td>\n",
       "      <td>43981</td>\n",
       "      <td>81</td>\n",
       "      <td>3282</td>\n",
       "      <td>171</td>\n",
       "      <td>205</td>\n",
       "      <td>239</td>\n",
       "      <td>...</td>\n",
       "      <td>52</td>\n",
       "      <td>1383</td>\n",
       "      <td>3567</td>\n",
       "      <td>2</td>\n",
       "      <td>4660</td>\n",
       "      <td>43981</td>\n",
       "      <td>581</td>\n",
       "      <td>1827</td>\n",
       "      <td>1554</td>\n",
       "      <td>0</td>\n",
       "    </tr>\n",
       "    <tr>\n",
       "      <th>3</th>\n",
       "      <td>74565</td>\n",
       "      <td>703710</td>\n",
       "      <td>424080</td>\n",
       "      <td>74565</td>\n",
       "      <td>43981</td>\n",
       "      <td>81</td>\n",
       "      <td>3282</td>\n",
       "      <td>171</td>\n",
       "      <td>205</td>\n",
       "      <td>239</td>\n",
       "      <td>...</td>\n",
       "      <td>52</td>\n",
       "      <td>1383</td>\n",
       "      <td>3567</td>\n",
       "      <td>2</td>\n",
       "      <td>4660</td>\n",
       "      <td>43981</td>\n",
       "      <td>581</td>\n",
       "      <td>1827</td>\n",
       "      <td>1554</td>\n",
       "      <td>0</td>\n",
       "    </tr>\n",
       "    <tr>\n",
       "      <th>4</th>\n",
       "      <td>74565</td>\n",
       "      <td>703710</td>\n",
       "      <td>424080</td>\n",
       "      <td>74565</td>\n",
       "      <td>43981</td>\n",
       "      <td>81</td>\n",
       "      <td>3282</td>\n",
       "      <td>171</td>\n",
       "      <td>205</td>\n",
       "      <td>239</td>\n",
       "      <td>...</td>\n",
       "      <td>52</td>\n",
       "      <td>1383</td>\n",
       "      <td>3567</td>\n",
       "      <td>2</td>\n",
       "      <td>4660</td>\n",
       "      <td>43981</td>\n",
       "      <td>581</td>\n",
       "      <td>1827</td>\n",
       "      <td>1554</td>\n",
       "      <td>0</td>\n",
       "    </tr>\n",
       "    <tr>\n",
       "      <th>5</th>\n",
       "      <td>74565</td>\n",
       "      <td>703710</td>\n",
       "      <td>424080</td>\n",
       "      <td>74565</td>\n",
       "      <td>43981</td>\n",
       "      <td>81</td>\n",
       "      <td>3282</td>\n",
       "      <td>171</td>\n",
       "      <td>205</td>\n",
       "      <td>239</td>\n",
       "      <td>...</td>\n",
       "      <td>52</td>\n",
       "      <td>1383</td>\n",
       "      <td>3567</td>\n",
       "      <td>2</td>\n",
       "      <td>4660</td>\n",
       "      <td>43981</td>\n",
       "      <td>581</td>\n",
       "      <td>1827</td>\n",
       "      <td>1554</td>\n",
       "      <td>0</td>\n",
       "    </tr>\n",
       "    <tr>\n",
       "      <th>6</th>\n",
       "      <td>74565</td>\n",
       "      <td>703710</td>\n",
       "      <td>424080</td>\n",
       "      <td>74565</td>\n",
       "      <td>43981</td>\n",
       "      <td>81</td>\n",
       "      <td>3282</td>\n",
       "      <td>171</td>\n",
       "      <td>205</td>\n",
       "      <td>239</td>\n",
       "      <td>...</td>\n",
       "      <td>52</td>\n",
       "      <td>1383</td>\n",
       "      <td>3567</td>\n",
       "      <td>2</td>\n",
       "      <td>4660</td>\n",
       "      <td>43981</td>\n",
       "      <td>581</td>\n",
       "      <td>1827</td>\n",
       "      <td>1554</td>\n",
       "      <td>0</td>\n",
       "    </tr>\n",
       "  </tbody>\n",
       "</table>\n",
       "<p>7 rows × 21 columns</p>\n",
       "</div>"
      ],
      "text/plain": [
       "   APDTop1  APDTop2  APDBot1  APDBot2  Coincidence  APD_DAC1  APD_DAC2   T1  \\\n",
       "0    74565   703710   424080    74565        43981        81      3282  171   \n",
       "1    74565   703710   424080    74565        43981        81      3282  171   \n",
       "2    74565   703710   424080    74565        43981        81      3282  171   \n",
       "3    74565   703710   424080    74565        43981        81      3282  171   \n",
       "4    74565   703710   424080    74565        43981        81      3282  171   \n",
       "5    74565   703710   424080    74565        43981        81      3282  171   \n",
       "6    74565   703710   424080    74565        43981        81      3282  171   \n",
       "\n",
       "    T2   T3  ...    T5  Laser_DAC  LCPR_cap_pf  LCPR_ref_i  LCPR_1  LCPR_2  \\\n",
       "0  205  239  ...    52       1383         3567           2    4660   43981   \n",
       "1  205  239  ...    52       1383         3567           2    4660   43981   \n",
       "2  205  239  ...    52       1383         3567           2    4660   43981   \n",
       "3  205  239  ...    52       1383         3567           2    4660   43981   \n",
       "4  205  239  ...    52       1383         3567           2    4660   43981   \n",
       "5  205  239  ...    52       1383         3567           2    4660   43981   \n",
       "6  205  239  ...    52       1383         3567           2    4660   43981   \n",
       "\n",
       "   LEPD_total  LEPD_dX  LEPD_dY  index  \n",
       "0         581     1827     1554      0  \n",
       "1         581     1827     1554      0  \n",
       "2         581     1827     1554      0  \n",
       "3         581     1827     1554      0  \n",
       "4         581     1827     1554      0  \n",
       "5         581     1827     1554      0  \n",
       "6         581     1827     1554      0  \n",
       "\n",
       "[7 rows x 21 columns]"
      ]
     },
     "execution_count": 162,
     "metadata": {},
     "output_type": "execute_result"
    }
   ],
   "source": [
    "df"
   ]
  },
  {
   "cell_type": "code",
   "execution_count": 161,
   "metadata": {
    "collapsed": true
   },
   "outputs": [],
   "source": [
    "df.to_csv(\"out.csv\")"
   ]
  },
  {
   "cell_type": "code",
   "execution_count": null,
   "metadata": {
    "collapsed": true
   },
   "outputs": [],
   "source": []
  }
 ],
 "metadata": {
  "kernelspec": {
   "display_name": "Python 3",
   "language": "python",
   "name": "python3"
  },
  "language_info": {
   "codemirror_mode": {
    "name": "ipython",
    "version": 3
   },
   "file_extension": ".py",
   "mimetype": "text/x-python",
   "name": "python",
   "nbconvert_exporter": "python",
   "pygments_lexer": "ipython3",
   "version": "3.5.2"
  }
 },
 "nbformat": 4,
 "nbformat_minor": 1
}
