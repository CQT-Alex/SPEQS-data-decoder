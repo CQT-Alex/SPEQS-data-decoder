{
 "cells": [
  {
   "cell_type": "code",
   "execution_count": 94,
   "metadata": {
    "collapsed": true
   },
   "outputs": [],
   "source": [
    "#all the import statements are here. \n",
    "import numpy as np\n",
    "import pandas as pd"
   ]
  },
  {
   "cell_type": "code",
   "execution_count": 118,
   "metadata": {
    "collapsed": true
   },
   "outputs": [],
   "source": [
    "raw_data = None\n",
    "bin_data = None\n",
    "data = None\n",
    "def load_data(file):\n",
    "    global raw_data\n",
    "    global bin_data\n",
    "    global data\n",
    "    raw_data  = np.fromfile(file, dtype='uint8')\n",
    "    print(\"bytes loaded: {0}\".format(len(raw_data)))\n",
    "    bin_data = raw_data.reshape(int(raw_data.shape[0]/(248)),248)\n",
    "    print(\"Number of data frames: {0}\".format(bin_data.shape[0]) )\n",
    "    #bin_data = raw_data.reshape(7,38)\n",
    "    bin_data = bin_data[:,1:-2].flatten()\n",
    "    #bin_data = bin_data[:,1:-2][0] #just checking with one 245 byte frame\n",
    "    bin_data = bin_data.reshape(int(bin_data.shape[0]/35),35)\n",
    "    print(\"Number of event packets: {0}\".format(bin_data.shape[0]) )\n",
    "    tdf = pd.DataFrame(bin_data)\n",
    "    tdf.to_csv(\"_byte_data.csv\")\n",
    "    data = bin_data\n",
    "    \n",
    "    \n",
    "    \n",
    "          \n",
    "          \n",
    "    "
   ]
  },
  {
   "cell_type": "code",
   "execution_count": 106,
   "metadata": {
    "collapsed": false
   },
   "outputs": [
    {
     "name": "stdout",
     "output_type": "stream",
     "text": [
      "test55\n"
     ]
    }
   ],
   "source": [
    "print(\"test{0}\".format(55))\n"
   ]
  },
  {
   "cell_type": "code",
   "execution_count": 51,
   "metadata": {
    "collapsed": false
   },
   "outputs": [],
   "source": []
  },
  {
   "cell_type": "code",
   "execution_count": 52,
   "metadata": {
    "collapsed": false
   },
   "outputs": [
    {
     "data": {
      "text/plain": [
       "array([['0x1', '0x0', '0x1', ..., '0xff', '0xff', '0xff'],\n",
       "       ['0xff', '0xff', '0xff', ..., '0xff', '0xff', '0xff'],\n",
       "       ['0xff', '0xff', '0xff', ..., '0xff', '0xff', '0xff'],\n",
       "       ..., \n",
       "       ['0xff', '0xff', '0xff', ..., '0xff', '0xff', '0xff'],\n",
       "       ['0xff', '0xff', '0xff', ..., '0xff', '0xff', '0xff'],\n",
       "       ['0xff', '0xff', '0xff', ..., '0xff', '0xff', '0xff']],\n",
       "      dtype='<U4')"
      ]
     },
     "execution_count": 52,
     "metadata": {},
     "output_type": "execute_result"
    }
   ],
   "source": [
    "#print in hex\n",
    "vhex = np.vectorize(hex)\n",
    "vhex(bin_data)"
   ]
  },
  {
   "cell_type": "code",
   "execution_count": 53,
   "metadata": {
    "collapsed": false
   },
   "outputs": [],
   "source": [
    "#helper function\n",
    "def create_word(barr):\n",
    "    h = 0\n",
    "    for b in reversed(barr):\n",
    "        h = h << 8\n",
    "        h = h | b\n",
    "    #print (hex(h) )\n",
    "    return h\n",
    "    \n",
    "def get_val(h, bitmask, r_shift ):\n",
    "    val = (h&bitmask) >>r_shift\n",
    "    return val"
   ]
  },
  {
   "cell_type": "code",
   "execution_count": 54,
   "metadata": {
    "collapsed": false
   },
   "outputs": [],
   "source": [
    "w = create_word(bin_data[1,0:3])"
   ]
  },
  {
   "cell_type": "code",
   "execution_count": 55,
   "metadata": {
    "collapsed": false
   },
   "outputs": [
    {
     "data": {
      "text/plain": [
       "array('0xfffff',\n",
       "      dtype='<U7')"
      ]
     },
     "execution_count": 55,
     "metadata": {},
     "output_type": "execute_result"
    }
   ],
   "source": [
    "vhex(get_val(w,0xFFFFF,0) )"
   ]
  },
  {
   "cell_type": "code",
   "execution_count": 56,
   "metadata": {
    "collapsed": true
   },
   "outputs": [],
   "source": [
    "def extract_column(data, begin_byte, end_byte,pattern, right_shift):\n",
    "    warr = map(create_word,data[:,begin_byte:end_byte])\n",
    "    r = [get_val(w,pattern,right_shift) for  w in warr]\n",
    "\n",
    "    return r\n"
   ]
  },
  {
   "cell_type": "code",
   "execution_count": 57,
   "metadata": {
    "collapsed": false
   },
   "outputs": [
    {
     "data": {
      "text/plain": [
       "array(['0x10001', '0xfffff', '0xfffff', ..., '0xfffff', '0xfffff',\n",
       "       '0xfffff'],\n",
       "      dtype='<U7')"
      ]
     },
     "execution_count": 57,
     "metadata": {},
     "output_type": "execute_result"
    }
   ],
   "source": [
    "def APD1Top(data):\n",
    "    return extract_column(data,0,3,0xFFFFF,0)\n",
    "vhex(APD1Top(bin_data))"
   ]
  },
  {
   "cell_type": "code",
   "execution_count": 58,
   "metadata": {
    "collapsed": false
   },
   "outputs": [
    {
     "data": {
      "text/plain": [
       "array(['0x8a020', '0xfffff', '0xfffff', ..., '0xfffff', '0xfffff',\n",
       "       '0xfffff'],\n",
       "      dtype='<U7')"
      ]
     },
     "execution_count": 58,
     "metadata": {},
     "output_type": "execute_result"
    }
   ],
   "source": [
    "def APD2Top(data):\n",
    "    return extract_column(data,2,5,0xFFFFF0,4)\n",
    "vhex(APD2Top(bin_data))"
   ]
  },
  {
   "cell_type": "code",
   "execution_count": 59,
   "metadata": {
    "collapsed": false
   },
   "outputs": [
    {
     "data": {
      "text/plain": [
       "array(['0x80b01', '0xfffff', '0xfffff', ..., '0xfffff', '0xfffff',\n",
       "       '0xfffff'],\n",
       "      dtype='<U7')"
      ]
     },
     "execution_count": 59,
     "metadata": {},
     "output_type": "execute_result"
    }
   ],
   "source": [
    "def APD1Bot(data):\n",
    "    return extract_column(data,5,8,0xFFFFF,0)\n",
    "vhex(APD1Bot(bin_data))"
   ]
  },
  {
   "cell_type": "code",
   "execution_count": 60,
   "metadata": {
    "collapsed": false
   },
   "outputs": [
    {
     "data": {
      "text/plain": [
       "array(['0xb80bb', '0xfffff', '0xfffff', ..., '0xfffff', '0xfffff',\n",
       "       '0xfffff'],\n",
       "      dtype='<U7')"
      ]
     },
     "execution_count": 60,
     "metadata": {},
     "output_type": "execute_result"
    }
   ],
   "source": [
    "def APD2Bot(data):\n",
    "    return extract_column(data,7,10,0xFFFFF0,4)\n",
    "vhex(APD2Bot(bin_data))"
   ]
  },
  {
   "cell_type": "code",
   "execution_count": 61,
   "metadata": {
    "collapsed": false
   },
   "outputs": [
    {
     "data": {
      "text/plain": [
       "array(['0x201', '0xffff', '0xffff', ..., '0xffff', '0xffff', '0xffff'],\n",
       "      dtype='<U6')"
      ]
     },
     "execution_count": 61,
     "metadata": {},
     "output_type": "execute_result"
    }
   ],
   "source": [
    "def coinc(data):\n",
    "    return extract_column(data,10,13,0xFFFF,0)\n",
    "vhex(coinc(bin_data))"
   ]
  },
  {
   "cell_type": "code",
   "execution_count": 62,
   "metadata": {
    "collapsed": false
   },
   "outputs": [
    {
     "data": {
      "text/plain": [
       "array(['0x58', '0xfff', '0xfff', ..., '0xfff', '0xfff', '0xfff'],\n",
       "      dtype='<U5')"
      ]
     },
     "execution_count": 62,
     "metadata": {},
     "output_type": "execute_result"
    }
   ],
   "source": [
    "def APD_DAC1(data):\n",
    "    return extract_column(data,12,15,0xFFF,0)\n",
    "vhex(APD_DAC1(bin_data))"
   ]
  },
  {
   "cell_type": "code",
   "execution_count": 63,
   "metadata": {
    "collapsed": false
   },
   "outputs": [
    {
     "data": {
      "text/plain": [
       "array(['0x0', '0xfff', '0xfff', ..., '0xfff', '0xfff', '0xfff'],\n",
       "      dtype='<U5')"
      ]
     },
     "execution_count": 63,
     "metadata": {},
     "output_type": "execute_result"
    }
   ],
   "source": [
    "def APD_DAC2(data):\n",
    "    return extract_column(data,12,15,0xFFF000,12)\n",
    "vhex(APD_DAC2(bin_data))"
   ]
  },
  {
   "cell_type": "code",
   "execution_count": 64,
   "metadata": {
    "collapsed": false
   },
   "outputs": [
    {
     "data": {
      "text/plain": [
       "array([['0x47', '0x0', '0x0', '0x0', '0x0'],\n",
       "       ['0xff', '0xff', '0xff', '0xff', '0xff'],\n",
       "       ['0xff', '0xff', '0xff', '0xff', '0xff'],\n",
       "       ..., \n",
       "       ['0xff', '0xff', '0xff', '0xff', '0xff'],\n",
       "       ['0xff', '0xff', '0xff', '0xff', '0xff'],\n",
       "       ['0xff', '0xff', '0xff', '0xff', '0xff']],\n",
       "      dtype='<U4')"
      ]
     },
     "execution_count": 64,
     "metadata": {},
     "output_type": "execute_result"
    }
   ],
   "source": [
    "def thermistors_x_5(data):\n",
    "    return data[:,16:21]\n",
    "\n",
    "vhex(thermistors_x_5(bin_data) )\n"
   ]
  },
  {
   "cell_type": "code",
   "execution_count": 65,
   "metadata": {
    "collapsed": false
   },
   "outputs": [
    {
     "data": {
      "text/plain": [
       "array(['0x0', '0xfff', '0xfff', ..., '0xfff', '0xfff', '0xfff'],\n",
       "      dtype='<U5')"
      ]
     },
     "execution_count": 65,
     "metadata": {},
     "output_type": "execute_result"
    }
   ],
   "source": [
    "def Laser_DAC(data):\n",
    "    return extract_column(data,21,23,0xFFF,0)\n",
    "vhex(Laser_DAC(bin_data))"
   ]
  },
  {
   "cell_type": "code",
   "execution_count": 66,
   "metadata": {
    "collapsed": false
   },
   "outputs": [
    {
     "data": {
      "text/plain": [
       "array(['0xfc0', '0xfff', '0xfff', ..., '0xfff', '0xfff', '0xfff'],\n",
       "      dtype='<U5')"
      ]
     },
     "execution_count": 66,
     "metadata": {},
     "output_type": "execute_result"
    }
   ],
   "source": [
    "def LCPR_cap_pf(data):\n",
    "    return extract_column(data,23,25,(0xFFF<<2),2)\n",
    "vhex(LCPR_cap_pf(bin_data))"
   ]
  },
  {
   "cell_type": "code",
   "execution_count": 67,
   "metadata": {
    "collapsed": false
   },
   "outputs": [
    {
     "data": {
      "text/plain": [
       "array(['0x0', '0x3', '0x3', ..., '0x3', '0x3', '0x3'],\n",
       "      dtype='<U3')"
      ]
     },
     "execution_count": 67,
     "metadata": {},
     "output_type": "execute_result"
    }
   ],
   "source": [
    "def LCPR_ref_i(data):\n",
    "    return extract_column(data,23,25,0x3,0)\n",
    "vhex(LCPR_ref_i(bin_data))"
   ]
  },
  {
   "cell_type": "code",
   "execution_count": 68,
   "metadata": {
    "collapsed": false
   },
   "outputs": [
    {
     "data": {
      "text/plain": [
       "array(['0xffff', '0xffff', '0xffff', ..., '0xffff', '0xffff', '0xffff'],\n",
       "      dtype='<U6')"
      ]
     },
     "execution_count": 68,
     "metadata": {},
     "output_type": "execute_result"
    }
   ],
   "source": [
    "def LCPR_1(data):\n",
    "    return extract_column(data,25,27,0xFFFF,0)\n",
    "vhex(LCPR_1(bin_data))"
   ]
  },
  {
   "cell_type": "code",
   "execution_count": 69,
   "metadata": {
    "collapsed": false
   },
   "outputs": [
    {
     "data": {
      "text/plain": [
       "array(['0xffff', '0xffff', '0xffff', ..., '0xffff', '0xffff', '0xffff'],\n",
       "      dtype='<U6')"
      ]
     },
     "execution_count": 69,
     "metadata": {},
     "output_type": "execute_result"
    }
   ],
   "source": [
    "def LCPR_2(data):\n",
    "    return extract_column(data,27,29,0xFFFF,0)\n",
    "vhex(LCPR_2(bin_data))"
   ]
  },
  {
   "cell_type": "code",
   "execution_count": 70,
   "metadata": {
    "collapsed": false
   },
   "outputs": [
    {
     "data": {
      "text/plain": [
       "array(['0x3ff', '0x3ff', '0x3ff', ..., '0x3ff', '0x3ff', '0x3ff'],\n",
       "      dtype='<U5')"
      ]
     },
     "execution_count": 70,
     "metadata": {},
     "output_type": "execute_result"
    }
   ],
   "source": [
    "def LEPD_total(data):\n",
    "    return extract_column(data,29,33,(0x3FF<<22),22)\n",
    "vhex(LEPD_total(bin_data))\n"
   ]
  },
  {
   "cell_type": "code",
   "execution_count": 71,
   "metadata": {
    "collapsed": false
   },
   "outputs": [
    {
     "data": {
      "text/plain": [
       "array(['0x7ff', '0x7ff', '0x7ff', ..., '0x7ff', '0x7ff', '0x7ff'],\n",
       "      dtype='<U5')"
      ]
     },
     "execution_count": 71,
     "metadata": {},
     "output_type": "execute_result"
    }
   ],
   "source": [
    "def LEPD_dX(data):\n",
    "    return extract_column(data,29,33,(0x7FF<<11),11)\n",
    "vhex(LEPD_dX(bin_data))"
   ]
  },
  {
   "cell_type": "code",
   "execution_count": 72,
   "metadata": {
    "collapsed": false
   },
   "outputs": [
    {
     "data": {
      "text/plain": [
       "array(['0x7ff', '0x7ff', '0x7ff', ..., '0x7ff', '0x7ff', '0x7ff'],\n",
       "      dtype='<U5')"
      ]
     },
     "execution_count": 72,
     "metadata": {},
     "output_type": "execute_result"
    }
   ],
   "source": [
    "def LEPD_dY(data):\n",
    "    return extract_column(data,29,33,(0x7FF),0)\n",
    "vhex(LEPD_dY(bin_data))"
   ]
  },
  {
   "cell_type": "code",
   "execution_count": 73,
   "metadata": {
    "collapsed": false
   },
   "outputs": [
    {
     "data": {
      "text/plain": [
       "array(['0xffff', '0xffff', '0xffff', ..., '0xffff', '0xffff', '0xffff'],\n",
       "      dtype='<U6')"
      ]
     },
     "execution_count": 73,
     "metadata": {},
     "output_type": "execute_result"
    }
   ],
   "source": [
    "def get_index(data):\n",
    "    return extract_column(data,33,35,(0xFFFF),0)\n",
    "vhex(get_index(bin_data))"
   ]
  },
  {
   "cell_type": "code",
   "execution_count": 116,
   "metadata": {
    "collapsed": true
   },
   "outputs": [],
   "source": [
    "def process(infile,outfile):\n",
    "    print(\"loading:\",infile)\n",
    "    load_data(infile)\n",
    "    COLUMN_NAMES = [\"APDTop1\",\"APDTop2\",\"APDBot1\",\"APDBot2\",\n",
    "                \"Coincidence\",\"APD_DAC1\",\"APD_DAC2\",\"T1\",\n",
    "                \"T2\",\"T3\",\"T4\",\"T5\",\"Laser_DAC\",\"LCPR_cap_pf\",\n",
    "                \"LCPR_ref_i\",\"LCPR_1\",\"LCPR_2\",\"LEPD_total\",\n",
    "                \"LEPD_dX\",\"LEPD_dY\",\"index\"]\n",
    "    df = pd.DataFrame(columns=COLUMN_NAMES)\n",
    "    data = bin_data\n",
    "    \n",
    "    df[\"APDTop1\"] = APD1Top(data)\n",
    "    df[\"APDTop2\"] = APD2Top(data)\n",
    "    df[\"APDBot1\"] = APD1Bot(data)\n",
    "    df[\"APDBot2\"] = APD2Bot(data)\n",
    "    df[\"Coincidence\"] = coinc(data)\n",
    "    df[\"APD_DAC1\"] = APD_DAC1(data)\n",
    "    df[\"APD_DAC2\"] = APD_DAC2(data)\n",
    "    T = thermistors_x_5(data)\n",
    "    df[\"T1\"] = T[:,0]\n",
    "    df[\"T2\"] = T[:,1]\n",
    "    df[\"T3\"] = T[:,2]\n",
    "    df[\"T4\"] = T[:,3]\n",
    "    df[\"T5\"] = T[:,4]\n",
    "    df[\"Laser_DAC\"] = Laser_DAC(data)\n",
    "    df[\"LCPR_cap_pf\"] = LCPR_cap_pf(data)\n",
    "    df[\"LCPR_ref_i\"] = LCPR_ref_i(data)\n",
    "    df[\"LCPR_1\"] = LCPR_1(data)\n",
    "    df[\"LCPR_2\"] = LCPR_2(data)\n",
    "    df[\"LEPD_total\"] = LEPD_total(data)\n",
    "    df[\"LEPD_dX\"] = LEPD_dX(data)\n",
    "    df[\"LEPD_dY\"] = LEPD_dY(data)\n",
    "    df[\"index\"] = get_index(data)\n",
    "    df.to_csv(outfile)\n",
    "    print(\"output written to:\",outfile)"
   ]
  },
  {
   "cell_type": "code",
   "execution_count": 117,
   "metadata": {
    "collapsed": false
   },
   "outputs": [
    {
     "name": "stdout",
     "output_type": "stream",
     "text": [
      "loading: data/S0_1_n\n",
      "bytes loaded: 99200\n",
      "Number of data frames: 400\n",
      "Number of event packets: 2800\n",
      "output written to: out.csv\n"
     ]
    }
   ],
   "source": [
    "process(\"data/S0_1_n\",\"out.csv\")"
   ]
  },
  {
   "cell_type": "code",
   "execution_count": null,
   "metadata": {
    "collapsed": true
   },
   "outputs": [],
   "source": []
  }
 ],
 "metadata": {
  "kernelspec": {
   "display_name": "Python 3",
   "language": "python",
   "name": "python3"
  },
  "language_info": {
   "codemirror_mode": {
    "name": "ipython",
    "version": 3
   },
   "file_extension": ".py",
   "mimetype": "text/x-python",
   "name": "python",
   "nbconvert_exporter": "python",
   "pygments_lexer": "ipython3",
   "version": "3.5.2"
  }
 },
 "nbformat": 4,
 "nbformat_minor": 1
}
