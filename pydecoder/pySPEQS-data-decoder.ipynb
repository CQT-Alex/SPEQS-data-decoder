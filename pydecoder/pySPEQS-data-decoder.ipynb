{
 "cells": [
  {
   "cell_type": "code",
   "execution_count": 63,
   "metadata": {
    "collapsed": true
   },
   "outputs": [],
   "source": [
    "#all the import statements are here. \n",
    "import numpy as np\n",
    "import pandas as pd\n",
    "import json"
   ]
  },
  {
   "cell_type": "code",
   "execution_count": 64,
   "metadata": {
    "collapsed": false
   },
   "outputs": [],
   "source": [
    "#raw_data = None\n",
    "#bin_data = None\n",
    "#data = None\n",
    "def load_data(file):\n",
    "    #global raw_data\n",
    "    #global bin_data\n",
    "    #global data\n",
    "    raw_data  = np.fromfile(file, dtype='uint8')\n",
    "    print(\"bytes loaded: {0}\".format(len(raw_data)))\n",
    "    bin_data = raw_data.reshape(int(raw_data.shape[0]/(248)),248)\n",
    "    #bin_data = raw_data\n",
    "    print(\"Number of data frames: {0}\".format(bin_data.shape[0]) )\n",
    "    #bin_data = raw_data.reshape(7,38)\n",
    "    bin_data= bin_data[:,0:-3].flatten()\n",
    "    #bin_data = bin_data[:,1:-2].flatten()\n",
    "    #bin_data = bin_data[:,1:-2][0] #just checking with one 245 byte frame\n",
    "    bin_data = bin_data.reshape(int(bin_data.shape[0]/35),35)\n",
    "    print(\"Number of event packets: {0}\".format(bin_data.shape[0]) )\n",
    "    #tdf = pd.DataFrame(bin_data)\n",
    "    #tdf.to_csv(\"_byte_data.csv\")\n",
    "    #data = bin_data\n",
    "    np.savetxt('_byte_data.csv', bin_data, delimiter=',')   # X is an array\n",
    "    #return bin_data\n",
    "    return bin_data\n",
    "#load_data(\"data/S1_1_n\")          \n",
    "#S1_1_n          \n",
    "    "
   ]
  },
  {
   "cell_type": "code",
   "execution_count": 65,
   "metadata": {
    "collapsed": false
   },
   "outputs": [],
   "source": [
    "##print in hex\n",
    "vhex = np.vectorize(hex)\n",
    "#vhex(bin_data)"
   ]
  },
  {
   "cell_type": "code",
   "execution_count": 66,
   "metadata": {
    "collapsed": false
   },
   "outputs": [],
   "source": [
    "#helper function\n",
    "def create_word(barr):\n",
    "    h = 0\n",
    "    for b in reversed(barr):\n",
    "        h = h << 8\n",
    "        h = h | b\n",
    "    #print (hex(h) )\n",
    "    return h\n",
    "    \n",
    "def get_val(h, bitmask, r_shift ):\n",
    "    val = (h&bitmask) >>r_shift\n",
    "    return val"
   ]
  },
  {
   "cell_type": "code",
   "execution_count": 67,
   "metadata": {
    "collapsed": false
   },
   "outputs": [],
   "source": [
    "#w = create_word(bin_data[1,0:3])"
   ]
  },
  {
   "cell_type": "code",
   "execution_count": 68,
   "metadata": {
    "collapsed": false
   },
   "outputs": [],
   "source": [
    "#vhex(get_val(w,0xFFFFF,0) )"
   ]
  },
  {
   "cell_type": "code",
   "execution_count": 69,
   "metadata": {
    "collapsed": true
   },
   "outputs": [],
   "source": [
    "def extract_column(data, begin_byte, end_byte,pattern, right_shift):\n",
    "    warr = map(create_word,data[:,begin_byte:end_byte])\n",
    "    r = [get_val(w,pattern,right_shift) for  w in warr]\n",
    "\n",
    "    return r\n"
   ]
  },
  {
   "cell_type": "code",
   "execution_count": 70,
   "metadata": {
    "collapsed": true
   },
   "outputs": [],
   "source": [
    "#def exp_code(hdata):"
   ]
  },
  {
   "cell_type": "code",
   "execution_count": 71,
   "metadata": {
    "collapsed": false
   },
   "outputs": [],
   "source": [
    "def APD1Top(data):\n",
    "    return extract_column(data,0,3,0xFFFFF,0)\n",
    "#vhex(APD1Top(bin_data))"
   ]
  },
  {
   "cell_type": "code",
   "execution_count": 72,
   "metadata": {
    "collapsed": false
   },
   "outputs": [],
   "source": [
    "def APD2Top(data):\n",
    "    return extract_column(data,2,5,0xFFFFF0,4)\n",
    "#vhex(APD2Top(bin_data))"
   ]
  },
  {
   "cell_type": "code",
   "execution_count": 73,
   "metadata": {
    "collapsed": false
   },
   "outputs": [],
   "source": [
    "def APD1Bot(data):\n",
    "    return extract_column(data,5,8,0xFFFFF,0)\n",
    "#vhex(APD1Bot(bin_data))"
   ]
  },
  {
   "cell_type": "code",
   "execution_count": 74,
   "metadata": {
    "collapsed": false
   },
   "outputs": [],
   "source": [
    "def APD2Bot(data):\n",
    "    return extract_column(data,7,10,0xFFFFF0,4)\n",
    "#vhex(APD2Bot(bin_data))"
   ]
  },
  {
   "cell_type": "code",
   "execution_count": 75,
   "metadata": {
    "collapsed": false
   },
   "outputs": [],
   "source": [
    "def coinc(data):\n",
    "    return extract_column(data,10,13,0xFFFF,0)\n",
    "#vhex(coinc(bin_data))"
   ]
  },
  {
   "cell_type": "code",
   "execution_count": 76,
   "metadata": {
    "collapsed": false
   },
   "outputs": [],
   "source": [
    "def APD_DAC1(data):\n",
    "    return extract_column(data,12,15,0xFFF,0)\n",
    "#vhex(APD_DAC1(bin_data))"
   ]
  },
  {
   "cell_type": "code",
   "execution_count": 77,
   "metadata": {
    "collapsed": false
   },
   "outputs": [],
   "source": [
    "def APD_DAC2(data):\n",
    "    return extract_column(data,12,15,0xFFF000,12)\n",
    "#vhex(APD_DAC2(bin_data))"
   ]
  },
  {
   "cell_type": "code",
   "execution_count": 78,
   "metadata": {
    "collapsed": false
   },
   "outputs": [],
   "source": [
    "def thermistors_x_5(data):\n",
    "    return data[:,16:21]\n",
    "\n",
    "#vhex(thermistors_x_5(bin_data) )\n"
   ]
  },
  {
   "cell_type": "code",
   "execution_count": 79,
   "metadata": {
    "collapsed": false
   },
   "outputs": [],
   "source": [
    "def Laser_DAC(data):\n",
    "    return extract_column(data,21,23,0xFFF,0)\n",
    "#vhex(Laser_DAC(bin_data))"
   ]
  },
  {
   "cell_type": "code",
   "execution_count": 80,
   "metadata": {
    "collapsed": false
   },
   "outputs": [],
   "source": [
    "def LCPR_cap_pf(data):\n",
    "    return extract_column(data,23,25,(0xFFF<<2),2)\n",
    "#vhex(LCPR_cap_pf(bin_data))"
   ]
  },
  {
   "cell_type": "code",
   "execution_count": 81,
   "metadata": {
    "collapsed": false
   },
   "outputs": [],
   "source": [
    "def LCPR_ref_i(data):\n",
    "    return extract_column(data,23,25,0x3,0)\n",
    "##vhex(LCPR_ref_i(bin_data))"
   ]
  },
  {
   "cell_type": "code",
   "execution_count": 82,
   "metadata": {
    "collapsed": false
   },
   "outputs": [],
   "source": [
    "def LCPR_1(data):\n",
    "    return extract_column(data,25,27,0xFFFF,0)\n",
    "#vhex(LCPR_1(bin_data))"
   ]
  },
  {
   "cell_type": "code",
   "execution_count": 83,
   "metadata": {
    "collapsed": false
   },
   "outputs": [],
   "source": [
    "def LCPR_2(data):\n",
    "    return extract_column(data,27,29,0xFFFF,0)\n",
    "#vhex(LCPR_2(bin_data))"
   ]
  },
  {
   "cell_type": "code",
   "execution_count": 84,
   "metadata": {
    "collapsed": false
   },
   "outputs": [],
   "source": [
    "def LEPD_total(data):\n",
    "    return extract_column(data,29,33,(0x3FF<<22),22)\n",
    "#vhex(LEPD_total(bin_data))\n"
   ]
  },
  {
   "cell_type": "code",
   "execution_count": 85,
   "metadata": {
    "collapsed": false
   },
   "outputs": [],
   "source": [
    "def LEPD_dX(data):\n",
    "    return extract_column(data,29,33,(0x7FF<<11),11)\n",
    "#vhex(LEPD_dX(bin_data))"
   ]
  },
  {
   "cell_type": "code",
   "execution_count": 86,
   "metadata": {
    "collapsed": false
   },
   "outputs": [],
   "source": [
    "def LEPD_dY(data):\n",
    "    return extract_column(data,29,33,(0x7FF),0)\n",
    "#vhex(LEPD_dY(bin_data))"
   ]
  },
  {
   "cell_type": "code",
   "execution_count": 87,
   "metadata": {
    "collapsed": false
   },
   "outputs": [],
   "source": [
    "def get_index(data):\n",
    "    return extract_column(data,33,35,(0xFFFF),0)\n",
    "#vhex(get_index(bin_data))"
   ]
  },
  {
   "cell_type": "code",
   "execution_count": 88,
   "metadata": {
    "collapsed": true
   },
   "outputs": [],
   "source": [
    "def process(infile,outfile):\n",
    "    print(\"loading:\",infile)\n",
    "    bin_data =  load_data(infile)\n",
    "    COLUMN_NAMES = [\"APDTop1\",\"APDTop2\",\"APDBot1\",\"APDBot2\",\n",
    "                \"Coincidence\",\"APD_DAC1\",\"APD_DAC2\",\"T1\",\n",
    "                \"T2\",\"T3\",\"T4\",\"T5\",\"Laser_DAC\",\"LCPR_cap_pf\",\n",
    "                \"LCPR_ref_i\",\"LCPR_1\",\"LCPR_2\",\"LEPD_total\",\n",
    "                \"LEPD_dX\",\"LEPD_dY\",\"Index\"]\n",
    "    df = pd.DataFrame(columns=COLUMN_NAMES)\n",
    "    \n",
    "    ind_list = get_index(bin_data)\n",
    "    heater_begin = 14\n",
    "    heater_end = ind_list[heater_begin:].index(0) + heater_begin\n",
    "    \n",
    "    data = bin_data[heater_end:]\n",
    "    \n",
    "    df[\"APDTop1\"] = APD1Top(data)\n",
    "    df[\"APDTop2\"] = APD2Top(data)\n",
    "    df[\"APDBot1\"] = APD1Bot(data)\n",
    "    df[\"APDBot2\"] = APD2Bot(data)\n",
    "    df[\"Coincidence\"] = coinc(data)\n",
    "    df[\"APD_DAC1\"] = APD_DAC1(data)\n",
    "    df[\"APD_DAC2\"] = APD_DAC2(data)\n",
    "    T = thermistors_x_5(data)\n",
    "    df[\"T1\"] = T[:,0].astype(int) *4\n",
    "    df[\"T2\"] = T[:,1].astype(int) *4\n",
    "    df[\"T3\"] = T[:,2].astype(int) *4\n",
    "    df[\"T4\"] = T[:,3].astype(int) *4\n",
    "    df[\"T5\"] = T[:,4].astype(int) *4\n",
    "    df[\"Laser_DAC\"] = Laser_DAC(data)\n",
    "    df[\"LCPR_cap_pf\"] = LCPR_cap_pf(data)\n",
    "    df[\"LCPR_ref_i\"] = LCPR_ref_i(data)\n",
    "    df[\"LCPR_1\"] = LCPR_1(data)\n",
    "    df[\"LCPR_2\"] = LCPR_2(data)\n",
    "    df[\"LEPD_total\"] = LEPD_total(data)\n",
    "    df[\"LEPD_dX\"] = LEPD_dX(data)\n",
    "    df[\"LEPD_dY\"] = LEPD_dY(data)\n",
    "    df[\"Index\"] = get_index(data)\n",
    "    df = df.drop_duplicates() # \n",
    "    df = df[df.Index !=65535  ]\n",
    "    \n",
    "    df.to_csv(outfile)\n",
    "    print(\"output written to:\",outfile)"
   ]
  },
  {
   "cell_type": "code",
   "execution_count": 89,
   "metadata": {
    "collapsed": false
   },
   "outputs": [],
   "source": [
    "def get_heating_data(infile, outfile): #(\"data/heater-test/S12_1_n\",\"out_S12.csv\")\n",
    "    bin_data = load_data(infile)\n",
    "    #df = pd.DataFrame(columns=COLUMN_NAMES)\n",
    "    data = bin_data\n",
    "    ind_list = get_index(data)\n",
    "    heater_begin = 14\n",
    "    heater_end = ind_list[heater_begin:].index(0) + heater_begin\n",
    "    \n",
    "    hdata = data[heater_begin:heater_end].astype(dtype='uint16') *4\n",
    "    \n",
    "    np.savetxt(outfile, hdata, delimiter=\",\")\n",
    "    #print(hdata)\n",
    "    \n",
    "    #print (heater_begin,heater_end)\n",
    "    #print( ind_list [heater_end])\n",
    "    #print (ind_list)\n",
    "    \n"
   ]
  },
  {
   "cell_type": "code",
   "execution_count": 111,
   "metadata": {
    "collapsed": false
   },
   "outputs": [],
   "source": [
    "def decode_profile_data(p):\n",
    "    d = {}\n",
    "    \n",
    "    d['obc_exp_code'] = p[1]\n",
    "    d['e_heat_high'] = p[2]\n",
    "    \n",
    "    d['heatHigh_timeout'] = create_word(p[4:2:-1])\n",
    "    d['TEMP_SetPt'] = create_word(p[6:4:-1])\n",
    "    d['DarkCountMode_TimeOut'] = create_word(p[8:6:-1])\n",
    "    d['LCPR_cap_ref_index'] = p[9]\n",
    "    d['LD_Cons_Current_Mode'] = create_word(p[11:9:-1])\n",
    "    d['Experiment_Time']  = create_word(p[13:11:-1])\n",
    "    d['QRNG_mode'] = p[14]  # implement check for qrng mdode vs. qrng profile\n",
    "    \n",
    "    \n",
    "    \n",
    "    \n",
    "    d['LCPR_cap_ref_index'] = p[31]  #  repeat? \n",
    "    d['LCPR_step_size'] = p[32]\n",
    "    d['Count_send_interval'] = p[33]\n",
    "    d['OPAMP1_DC_Offset'] = create_word(p[35:33:-1])\n",
    "    d['OPAMP2_DC_Offset'] = create_word(p[37:35:-1])\n",
    "    \n",
    "    for key in d :\n",
    "        d[key] = int(d[key])\n",
    "    \n",
    "    \n",
    "    \n",
    "    d['LCPR_1_Buf'] = [0,0,0,0]\n",
    "    d['LCPR_2_Buf'] = [0,0,0,0]\n",
    "    \n",
    "    for i in range(0,4):\n",
    "        d['LCPR_1_Buf'][i] = int(create_word(p[(16+2*i):(14+2*i):-1]))\n",
    "        d['LCPR_2_Buf'][i] = int(create_word(p[(8+16+2*i):(8+14+2*i):-1]))\n",
    "    \n",
    "    return d\n",
    "    \n",
    "    "
   ]
  },
  {
   "cell_type": "code",
   "execution_count": 112,
   "metadata": {
    "collapsed": false
   },
   "outputs": [
    {
     "name": "stdout",
     "output_type": "stream",
     "text": [
      "bytes loaded: 148800\n",
      "Number of data frames: 600\n",
      "Number of event packets: 4200\n"
     ]
    }
   ],
   "source": [
    "def get_profile_data(infile,outfile):\n",
    "    profile_dd = {} #profile data dictionary\n",
    "    bin_data = load_data(infile)\n",
    "    #df = pd.DataFrame(columns=COLUMN_NAMES)\n",
    "    pp = np.append(bin_data[0,:],bin_data[1,0:3]) #previous profile\n",
    "    #print (pp)\n",
    "    dpp = decode_profile_data(pp)\n",
    "    #print (dpp)\n",
    "    profile_dd[\"previous_profile\"] = dpp\n",
    "    cp = np.append(bin_data[7,:],bin_data[8,0:3]) #current profile\n",
    "    dcp = decode_profile_data(cp)\n",
    "    #print (dcp)\n",
    "    profile_dd[\"current_profile\"] = dcp\n",
    "    with open(outfile,\"w\") as fp:\n",
    "        json.dump(profile_dd, fp,indent=4, sort_keys=True)\n",
    "\n",
    "    \n",
    "get_profile_data(\"data/S4_1_n\",\"prof_s41.json\")"
   ]
  },
  {
   "cell_type": "code",
   "execution_count": null,
   "metadata": {
    "collapsed": false
   },
   "outputs": [],
   "source": [
    "process(\"data/S4_1_n\",\"out_S41.csv\")\n",
    "#process(\"out.bin\",\"out_dummy.csv\")\n",
    "get_heating_data(\"data/S4_1_n\",\"heat_S41.csv\")"
   ]
  }
 ],
 "metadata": {
  "kernelspec": {
   "display_name": "Python 3",
   "language": "python",
   "name": "python3"
  },
  "language_info": {
   "codemirror_mode": {
    "name": "ipython",
    "version": 3
   },
   "file_extension": ".py",
   "mimetype": "text/x-python",
   "name": "python",
   "nbconvert_exporter": "python",
   "pygments_lexer": "ipython3",
   "version": "3.5.2"
  }
 },
 "nbformat": 4,
 "nbformat_minor": 1
}
